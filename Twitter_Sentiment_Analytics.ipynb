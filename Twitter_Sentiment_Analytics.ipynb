{
 "cells": [
  {
   "cell_type": "code",
   "execution_count": 8,
   "id": "34e84361",
   "metadata": {},
   "outputs": [
    {
     "data": {
      "text/plain": [
       "True"
      ]
     },
     "execution_count": 8,
     "metadata": {},
     "output_type": "execute_result"
    }
   ],
   "source": [
    "import tweepy as tw\n",
    "from tweepy import *\n",
    "import requests\n",
    "import os\n",
    "import numpy as np\n",
    "import pandas as pd\n",
    "from azure.ai.textanalytics import TextAnalyticsClient\n",
    "from azure.core.credentials import AzureKeyCredential\n",
    "from azure.identity import DefaultAzureCredential\n",
    "import json\n",
    "from langdetect import detect\n",
    "from nltk.stem import SnowballStemmer\n",
    "from nltk.sentiment.vader import SentimentIntensityAnalyzer\n",
    "import pycountry\n",
    "import re\n",
    "import string\n",
    "from textblob import TextBlob\n",
    "import sys\n",
    "import matplotlib.pyplot as plt\n",
    "\n",
    "from dotenv import load_dotenv\n",
    "load_dotenv()"
   ]
  },
  {
   "cell_type": "code",
   "execution_count": 9,
   "id": "a296353c",
   "metadata": {},
   "outputs": [],
   "source": [
    "# your Twitter API key and API secret & Microsoft Azure API Credentials\n",
    "my_api_key = os.getenv(\"twitter_api_key\")\n",
    "my_api_secret = os.getenv(\"twitter_secret_api_key\")\n",
    "language_api_key = os.getenv(\"azure_language\")\n",
    "endpoint = os.getenv(\"endpoint\")\n",
    "ta_credential = AzureKeyCredential(language_api_key)\n",
    "text_analytics_client = TextAnalyticsClient(\n",
    "            endpoint=endpoint, credential=ta_credential)\n",
    "\n",
    "\n",
    "#authenticate\n",
    "auth = tw.OAuthHandler(my_api_key, my_api_secret)\n",
    "api = tw.API(auth, wait_on_rate_limit=True)"
   ]
  },
  {
   "cell_type": "code",
   "execution_count": 10,
   "id": "fef56c80",
   "metadata": {},
   "outputs": [],
   "source": [
    "search_query = \"#ETH -filter:retweets\""
   ]
  },
  {
   "cell_type": "code",
   "execution_count": 11,
   "id": "f86c6801",
   "metadata": {},
   "outputs": [
    {
     "name": "stderr",
     "output_type": "stream",
     "text": [
      "Unexpected parameter: since\n"
     ]
    },
    {
     "name": "stdout",
     "output_type": "stream",
     "text": [
      "Total Tweets fetched: 10\n"
     ]
    }
   ],
   "source": [
    "# get tweets from the API\n",
    "tweets = tw.Cursor(api.search_tweets,\n",
    "              q=search_query,\n",
    "              lang=\"en\",\n",
    "              since=\"2021-09-16\").items(10)\n",
    "\n",
    "# store the API responses in a list\n",
    "tweets_copy = []\n",
    "for tweet in tweets:\n",
    "    tweets_copy.append(tweet)\n",
    "    \n",
    "print(\"Total Tweets fetched:\", len(tweets_copy))"
   ]
  },
  {
   "cell_type": "code",
   "execution_count": 12,
   "id": "dc272aaf",
   "metadata": {},
   "outputs": [
    {
     "data": {
      "text/html": [
       "<div>\n",
       "<style scoped>\n",
       "    .dataframe tbody tr th:only-of-type {\n",
       "        vertical-align: middle;\n",
       "    }\n",
       "\n",
       "    .dataframe tbody tr th {\n",
       "        vertical-align: top;\n",
       "    }\n",
       "\n",
       "    .dataframe thead th {\n",
       "        text-align: right;\n",
       "    }\n",
       "</style>\n",
       "<table border=\"1\" class=\"dataframe\">\n",
       "  <thead>\n",
       "    <tr style=\"text-align: right;\">\n",
       "      <th></th>\n",
       "      <th>user_name</th>\n",
       "      <th>user_location</th>\n",
       "      <th>user_description</th>\n",
       "      <th>user_verified</th>\n",
       "      <th>date</th>\n",
       "      <th>text</th>\n",
       "      <th>hashtags</th>\n",
       "      <th>source</th>\n",
       "    </tr>\n",
       "  </thead>\n",
       "  <tbody>\n",
       "    <tr>\n",
       "      <th>0</th>\n",
       "      <td>Raghu Domainer</td>\n",
       "      <td></td>\n",
       "      <td>https://t.co/xzXTGMYn7x l https://t.co/s25tFJc...</td>\n",
       "      <td>False</td>\n",
       "      <td>2021-12-10 02:08:23+00:00</td>\n",
       "      <td>https://t.co/t5slIj39bR domain name was recent...</td>\n",
       "      <td>None</td>\n",
       "      <td>Twitter Web App</td>\n",
       "    </tr>\n",
       "    <tr>\n",
       "      <th>1</th>\n",
       "      <td>Olusegun Rebecca</td>\n",
       "      <td></td>\n",
       "      <td></td>\n",
       "      <td>False</td>\n",
       "      <td>2021-12-10 02:08:18+00:00</td>\n",
       "      <td>@AirdropStario This is definitely going to be ...</td>\n",
       "      <td>None</td>\n",
       "      <td>Twitter for Android</td>\n",
       "    </tr>\n",
       "    <tr>\n",
       "      <th>2</th>\n",
       "      <td>OK👌🏼</td>\n",
       "      <td>United States</td>\n",
       "      <td>I offer some free recommendations and some are...</td>\n",
       "      <td>False</td>\n",
       "      <td>2021-12-10 02:08:16+00:00</td>\n",
       "      <td>Binance Will List Flux (FLUX)\\nhttps://t.co/u5...</td>\n",
       "      <td>[Solana, BNB, ADA, shiba, SHIB, SHIBAINU, SHIB...</td>\n",
       "      <td>Twitter for Android</td>\n",
       "    </tr>\n",
       "    <tr>\n",
       "      <th>3</th>\n",
       "      <td>Daman 💨</td>\n",
       "      <td></td>\n",
       "      <td>https://t.co/cctGuCncJV</td>\n",
       "      <td>False</td>\n",
       "      <td>2021-12-10 02:08:05+00:00</td>\n",
       "      <td>@NFTCompanyy Check out this account on OpenSea...</td>\n",
       "      <td>[NFTs, NFTCommunity, NFTGiveaway, NFTcollectio...</td>\n",
       "      <td>Twitter for Android</td>\n",
       "    </tr>\n",
       "    <tr>\n",
       "      <th>4</th>\n",
       "      <td>Daman 💨</td>\n",
       "      <td></td>\n",
       "      <td>https://t.co/cctGuCncJV</td>\n",
       "      <td>False</td>\n",
       "      <td>2021-12-10 02:07:59+00:00</td>\n",
       "      <td>@LionNfts Check out this account on OpenSea\\n\\...</td>\n",
       "      <td>[NFTs, NFTCommunity, NFTGiveaway, NFTcollectio...</td>\n",
       "      <td>Twitter for Android</td>\n",
       "    </tr>\n",
       "  </tbody>\n",
       "</table>\n",
       "</div>"
      ],
      "text/plain": [
       "          user_name  user_location  \\\n",
       "0    Raghu Domainer                  \n",
       "1  Olusegun Rebecca                  \n",
       "2              OK👌🏼  United States   \n",
       "3           Daman 💨                  \n",
       "4           Daman 💨                  \n",
       "\n",
       "                                    user_description  user_verified  \\\n",
       "0  https://t.co/xzXTGMYn7x l https://t.co/s25tFJc...          False   \n",
       "1                                                             False   \n",
       "2  I offer some free recommendations and some are...          False   \n",
       "3                            https://t.co/cctGuCncJV          False   \n",
       "4                            https://t.co/cctGuCncJV          False   \n",
       "\n",
       "                       date  \\\n",
       "0 2021-12-10 02:08:23+00:00   \n",
       "1 2021-12-10 02:08:18+00:00   \n",
       "2 2021-12-10 02:08:16+00:00   \n",
       "3 2021-12-10 02:08:05+00:00   \n",
       "4 2021-12-10 02:07:59+00:00   \n",
       "\n",
       "                                                text  \\\n",
       "0  https://t.co/t5slIj39bR domain name was recent...   \n",
       "1  @AirdropStario This is definitely going to be ...   \n",
       "2  Binance Will List Flux (FLUX)\\nhttps://t.co/u5...   \n",
       "3  @NFTCompanyy Check out this account on OpenSea...   \n",
       "4  @LionNfts Check out this account on OpenSea\\n\\...   \n",
       "\n",
       "                                            hashtags               source  \n",
       "0                                               None      Twitter Web App  \n",
       "1                                               None  Twitter for Android  \n",
       "2  [Solana, BNB, ADA, shiba, SHIB, SHIBAINU, SHIB...  Twitter for Android  \n",
       "3  [NFTs, NFTCommunity, NFTGiveaway, NFTcollectio...  Twitter for Android  \n",
       "4  [NFTs, NFTCommunity, NFTGiveaway, NFTcollectio...  Twitter for Android  "
      ]
     },
     "execution_count": 12,
     "metadata": {},
     "output_type": "execute_result"
    }
   ],
   "source": [
    "# intialize the dataframe\n",
    "tweets_df = pd.DataFrame()\n",
    "\n",
    "# populate the dataframe\n",
    "for tweet in tweets_copy:\n",
    "    hashtags = []\n",
    "    try:\n",
    "        for hashtag in tweet.entities[\"hashtags\"]:\n",
    "            hashtags.append(hashtag[\"text\"])\n",
    "        text = api.get_status(id=tweet.id, tweet_mode='extended').full_text\n",
    "    except:\n",
    "        pass\n",
    "    tweets_df = tweets_df.append(pd.DataFrame({'user_name': tweet.user.name, \n",
    "                                               'user_location': tweet.user.location,\\\n",
    "                                               'user_description': tweet.user.description,\n",
    "                                               'user_verified': tweet.user.verified,\n",
    "                                               'date': tweet.created_at,\n",
    "                                               'text': text, \n",
    "                                               'hashtags': [hashtags if hashtags else None],\n",
    "                                               'source': tweet.source}))\n",
    "    tweets_df = tweets_df.reset_index(drop=True)\n",
    "\n",
    "# show the dataframe\n",
    "tweets_df.head(5)"
   ]
  },
  {
   "cell_type": "code",
   "execution_count": null,
   "id": "56ff7292",
   "metadata": {},
   "outputs": [],
   "source": [
    "df=str(tweets_df.iloc[:,5])"
   ]
  },
  {
   "cell_type": "code",
   "execution_count": null,
   "id": "685617ff",
   "metadata": {},
   "outputs": [],
   "source": [
    "Microsoft Azure Cognitive Text Analytics \n",
    "\n",
    "documents = [df]\n",
    "\n",
    "response = text_analytics_client.analyze_sentiment(documents, language=\"en\")\n",
    "result = [doc for doc in response if not doc.is_error]\n",
    "\n",
    "for doc in result:\n",
    "    print(\"Overall sentiment: {}\".format(doc.sentiment))\n",
    "    print(\"Scores: positive={}; neutral={}; negative={} \\n\".format(\n",
    "        doc.confidence_scores.positive,\n",
    "        doc.confidence_scores.neutral,\n",
    "        doc.confidence_scores.negative,\n",
    "    ))\n",
    "print(search_query)\n"
   ]
  }
 ],
 "metadata": {
  "kernelspec": {
   "display_name": "Python 3",
   "language": "python",
   "name": "python3"
  },
  "language_info": {
   "codemirror_mode": {
    "name": "ipython",
    "version": 3
   },
   "file_extension": ".py",
   "mimetype": "text/x-python",
   "name": "python",
   "nbconvert_exporter": "python",
   "pygments_lexer": "ipython3",
   "version": "3.8.8"
  }
 },
 "nbformat": 4,
 "nbformat_minor": 5
}
